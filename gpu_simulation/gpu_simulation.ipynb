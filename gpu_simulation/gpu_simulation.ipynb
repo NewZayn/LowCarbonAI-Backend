{
 "cells": [
  {
   "cell_type": "code",
   "execution_count": null,
   "id": "3a1253b1-93ad-40f9-b764-02bd5eed31da",
   "metadata": {},
   "outputs": [],
   "source": [
    "# -*-\n",
    "\n",
    "import pandas as pd\n",
    "import requests\n",
    "import time\n",
    "import json # Import the json library for pretty printing\n",
    "\n",
    "df = pd.read_csv('gpu_data.csv')\n",
    "\n",
    "URL = 'http://localhost:8080/api/metrics/addMetrics'\n",
    "\n",
    "index = 0\n",
    "while True:\n",
    "    row = df.iloc[index].to_dict()\n",
    "    try:\n",
    "        print(\"Sending JSON payload:\")\n",
    "        print(json.dumps(row, indent=4))\n",
    "        response = requests.post(URL, json=row)\n",
    "        print(f'Linha enviada: {row.get(\"timestamp\", \"N/A\")} - {row.get(\"gpu_id\", \"N/A\")} | Status: {response.status_code}')\n",
    "    except Exception as e:\n",
    "        print(f'Erro ao enviar: {e}')\n",
    "    time.sleep(5)\n",
    "    index = (index + 1) % len(df)"
   ]
  }
 ],
 "metadata": {
  "kernelspec": {
   "display_name": "Python 3 (ipykernel)",
   "language": "python",
   "name": "python3"
  },
  "language_info": {
   "codemirror_mode": {
    "name": "ipython",
    "version": 3
   },
   "file_extension": ".py",
   "mimetype": "text/x-python",
   "name": "python",
   "nbconvert_exporter": "python",
   "pygments_lexer": "ipython3",
   "version": "3.12.3"
  }
 },
 "nbformat": 4,
 "nbformat_minor": 5
}
