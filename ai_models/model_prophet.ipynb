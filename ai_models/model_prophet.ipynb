{
 "cells": [
  {
   "cell_type": "code",
   "execution_count": null,
   "id": "d5e4b4d7",
   "metadata": {
    "vscode": {
     "languageId": "python"
    }
   },
   "outputs": [],
   "source": [
    "# Cell 1 - Imports\n",
    "import pandas as pd\n",
    "import numpy as np\n",
    "import matplotlib.pyplot as plt\n",
    "from prophet import Prophet\n",
    "import joblib\n",
    "import warnings\n",
    "\n",
    "warnings.filterwarnings('ignore')"
   ]
  },
  {
   "cell_type": "code",
   "execution_count": null,
   "id": "8d3f61de",
   "metadata": {
    "vscode": {
     "languageId": "python"
    }
   },
   "outputs": [],
   "source": [
    "# Cell 3 - Carregando os dados\n",
    "df = pd.read_csv(\"./gpu_data.csv\", parse_dates=['timestamp'], index_col='timestamp')\n",
    "df = df.asfreq('h')\n",
    "print(f\"Shape do DataFrame: {df.shape}\")\n",
    "print(f\"Colunas: {df.columns.tolist()}\")\n",
    "print(f\"Valores ausentes por coluna:\\n{df.isnull().sum()}\")"
   ]
  },
  {
   "cell_type": "code",
   "execution_count": null,
   "id": "aba1911c",
   "metadata": {
    "vscode": {
     "languageId": "python"
    }
   },
   "outputs": [],
   "source": [
    "# Cell 4 - Tratando dados ausentes e inválidos\n",
    "df = df.replace([np.inf, -np.inf], np.nan)\n",
    "df = df.dropna()"
   ]
  },
  {
   "cell_type": "code",
   "execution_count": null,
   "id": "f75368f4",
   "metadata": {
    "vscode": {
     "languageId": "python"
    }
   },
   "outputs": [],
   "source": [
    "# Cell 4 - Tratando dados ausentes e inválidos\n",
    "df = df.replace([np.inf, -np.inf], np.nan)\n",
    "df = df.dropna()"
   ]
  },
  {
   "cell_type": "code",
   "execution_count": null,
   "id": "95a4cb97",
   "metadata": {
    "vscode": {
     "languageId": "python"
    }
   },
   "outputs": [],
   "source": [
    "# Cell 5 - Preparando dados para o Prophet\n",
    "df_prophet = df.reset_index()\n",
    "df_prophet = df_prophet.rename(columns={'timestamp': 'ds', 'gpu_utilization (%)': 'y'})\n",
    "\n",
    "if 'y' not in df_prophet.columns:\n",
    "    raise ValueError(\"Coluna 'gpu_utilization (%)' não encontrada nos dados\")\n",
    "\n",
    "if df_prophet['y'].isnull().any() or len(df_prophet['y']) == 0:\n",
    "    raise ValueError(\"Valores inválidos na coluna de utilização da GPU\")"
   ]
  },
  {
   "cell_type": "code",
   "execution_count": null,
   "id": "da8be8a3",
   "metadata": {
    "vscode": {
     "languageId": "python"
    }
   },
   "outputs": [],
   "source": [
    "# Cell 6 - Adicionando regressores\n",
    "regressores_adicionados = []\n",
    "\n",
    "if 'gpu_power_draw (W)' in df.columns:\n",
    "    df_prophet['gpu_power_draw'] = df['gpu_power_draw (W)'].values\n",
    "    regressores_adicionados.append('gpu_power_draw')\n",
    "    print(\"Regressor 'gpu_power_draw' adicionado\")\n",
    "\n",
    "if 'gpu_temperature (°C)' in df.columns:\n",
    "    df_prophet['temperature'] = df['gpu_temperature (°C)'].values\n",
    "    regressores_adicionados.append('temperature')\n",
    "    print(\"Regressor 'temperature' adicionado\")\n",
    "\n",
    "if 'memory_utilization (%)' in df.columns:\n",
    "    df_prophet['memory_utilization'] = df['memory_utilization (%)'].values\n",
    "    regressores_adicionados.append('memory_utilization')\n",
    "    print(\"Regressor 'memory_utilization' adicionado\")"
   ]
  },
  {
   "cell_type": "code",
   "execution_count": null,
   "id": "ae2eb6b6",
   "metadata": {
    "vscode": {
     "languageId": "python"
    }
   },
   "outputs": [],
   "source": [
    "# Cell 7 - Dividindo os dados em treino e teste\n",
    "train_size = int(len(df_prophet) * 0.8)\n",
    "train = df_prophet[:train_size]\n",
    "test = df_prophet[train_size:]\n",
    "print(f\"Dados divididos: {len(train)} para treino, {len(test)} para teste\")"
   ]
  },
  {
   "cell_type": "code",
   "execution_count": null,
   "id": "9c44401e",
   "metadata": {
    "vscode": {
     "languageId": "python"
    }
   },
   "outputs": [],
   "source": [
    "# Cell 8 - Criando e treinando o modelo Prophet\n",
    "model = Prophet(\n",
    "    seasonality_mode='multiplicative',\n",
    "    changepoint_prior_scale=10,\n",
    "    seasonality_prior_scale=100,\n",
    "    mcmc_samples=0\n",
    ")\n",
    "\n",
    "for regressor in regressores_adicionados:\n",
    "    model.add_regressor(regressor)\n",
    "    print(f\"Adicionando regressor '{regressor}' ao modelo\")\n",
    "\n",
    "model.fit(train)\n",
    "print(\"Treinamento concluído com sucesso!\")"
   ]
  },
  {
   "cell_type": "code",
   "execution_count": null,
   "id": "51d98cc2",
   "metadata": {
    "vscode": {
     "languageId": "python"
    }
   },
   "outputs": [],
   "source": [
    "\n",
    "joblib.dump({'model': model}, './ai_models/prophet_model.pkl')\n",
    "print(\"Modelo salvo com sucesso em './ai_models/prophet_model.pkl\")"
   ]
  },
  {
   "cell_type": "code",
   "execution_count": null,
   "id": "1f2c17d9",
   "metadata": {
    "vscode": {
     "languageId": "python"
    }
   },
   "outputs": [],
   "source": [
    "# Cell 10 - Gerando previsões e gráfico de validação\n",
    "future = model.make_future_dataframe(periods=len(test), freq='h')\n",
    "\n",
    "for regressor in regressores_adicionados:\n",
    "    if regressor in df_prophet.columns:\n",
    "        future[regressor] = df_prophet[regressor].values[:len(future)]\n",
    "\n",
    "forecast = model.predict(future)\n",
    "\n",
    "plt.figure(figsize=(12, 6))\n",
    "plt.plot(train['ds'], train['y'], label='Treino', color='blue')\n",
    "plt.plot(test['ds'], test['y'], label='Teste (Real)', color='green')\n",
    "forecast_test = forecast.iloc[train_size:].reset_index(drop=True)\n",
    "plt.plot(test['ds'], forecast_test['yhat'], label='Previsão', color='red', linestyle='--')\n",
    "plt.fill_between(test['ds'],\n",
    "                 forecast_test['yhat_lower'],\n",
    "                 forecast_test['yhat_upper'],\n",
    "                 color='red', alpha=0.2, label='Intervalo de confiança')\n",
    "plt.title('Validação do Modelo Prophet - GPU Utilization')\n",
    "plt.xlabel('Data')\n",
    "plt.ylabel('Utilização da GPU (%)')\n",
    "plt.legend()\n",
    "plt.grid(True)\n",
    "plt.show()"
   ]
  },
  {
   "cell_type": "code",
   "execution_count": null,
   "id": "0f781a43",
   "metadata": {
    "vscode": {
     "languageId": "python"
    }
   },
   "outputs": [],
   "source": [
    "# Cell 11 - Avaliando o modelo\n",
    "from sklearn.metrics import mean_absolute_error, mean_squared_error\n",
    "real_values = test['y'].values\n",
    "predicted_values = forecast_test['yhat'].values\n",
    "\n",
    "mae = mean_absolute_error(real_values, predicted_values)\n",
    "rmse = np.sqrt(mean_squared_error(real_values, predicted_values))\n",
    "\n",
    "print(f\"Métricas de avaliação:\")\n",
    "print(f\"MAE: {mae:.4f}\")\n",
    "print(f\"RMSE: {rmse:.4f}\")"
   ]
  }
 ],
 "metadata": {
  "kernelspec": {
   "display_name": "",
   "name": ""
  },
  "language_info": {
   "name": ""
  }
 },
 "nbformat": 4,
 "nbformat_minor": 5
}
